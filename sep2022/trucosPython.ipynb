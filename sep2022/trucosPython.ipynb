{
 "cells": [
  {
   "cell_type": "markdown",
   "metadata": {},
   "source": [
    "# 1. Emojis\n",
    "¡No me digas que no lo vas a intentar!"
   ]
  },
  {
   "cell_type": "code",
   "execution_count": null,
   "metadata": {},
   "outputs": [],
   "source": [
    "from emoji import emojize\n",
    "print(emojize(\"Python es :thumbs_up:\"))"
   ]
  },
  {
   "cell_type": "markdown",
   "metadata": {},
   "source": [
    "# 2. Map\n",
    "Python soporta programación funcional mediante varias funciones. Una de las más útiles es \"map()\", especialmente cuando sea la combina con las funciones lambda."
   ]
  },
  {
   "cell_type": "code",
   "execution_count": null,
   "metadata": {},
   "outputs": [],
   "source": [
    "x = [1,2,3]\n",
    "y = map(lambda x: x+1,x)\n",
    "print(list(y))"
   ]
  },
  {
   "cell_type": "markdown",
   "metadata": {},
   "source": [
    "# 3. All & any\n",
    "Una de las razones por las cuales Python es famoso es porque se parece bastante al inglés y por ende es muy expresivo. A veces se hacen bromas de que Python es \"seudocódigo ejecutable\".\n"
   ]
  },
  {
   "cell_type": "code",
   "execution_count": null,
   "metadata": {},
   "outputs": [],
   "source": [
    "x = [True,True,False]\n",
    "if any(x):\n",
    "    print(\"Por lo menos un elemento es True\")\n",
    "if all(x):\n",
    "    print(\"No todos los elementos son True\")\n",
    "if any(x) and not all(x):\n",
    "    print(\"Hay al menos un True y al menos un False\")"
   ]
  },
  {
   "cell_type": "markdown",
   "metadata": {},
   "source": [
    "# 4. Howdoi"
   ]
  },
  {
   "cell_type": "markdown",
   "metadata": {},
   "source": [
    "# 5. UUID\n",
    "UUID significa Universally Unique IDs. Con Python, puedes crear un ID aleatorio de 128 bits. Hay $2^{122}$ UUIDs posibles que pueden generarse, así que la probabilidad de que existan UUIDs duplicados es extremadamente baja."
   ]
  },
  {
   "cell_type": "code",
   "execution_count": null,
   "metadata": {},
   "outputs": [],
   "source": [
    "import uuid\n",
    "user_id = uuid.uuid4()\n",
    "print(user_id)"
   ]
  },
  {
   "cell_type": "markdown",
   "metadata": {},
   "source": [
    "# 6. Wikipedia\n",
    "Wikipedia tiene una API que nos permite acceder a esta gran enciclopedia. "
   ]
  },
  {
   "cell_type": "code",
   "execution_count": null,
   "metadata": {},
   "outputs": [],
   "source": [
    "import wikipedia\n",
    "wikipedia.set_lang(\"es\")\n",
    "resultado = wikipedia.page(\"Python\")\n",
    "print(resultado.summary)"
   ]
  },
  {
   "cell_type": "markdown",
   "metadata": {},
   "source": [
    "# 7. pprint (pretty print)\n",
    "Como su nombre lo dice, imprime las cosas en un formato bonito."
   ]
  },
  {
   "cell_type": "code",
   "execution_count": null,
   "metadata": {},
   "outputs": [],
   "source": [
    "import requests\n",
    "import pprint\n",
    "url = \"https://randomuser.me/api/?results=1\"\n",
    "users = requests.get(url).json()\n",
    "pprint.pprint(users)"
   ]
  },
  {
   "cell_type": "markdown",
   "metadata": {},
   "source": [
    "# 8. Zip\n",
    "¿Necesitas hacer un diccionario a partir de dos listas?"
   ]
  },
  {
   "cell_type": "code",
   "execution_count": null,
   "metadata": {},
   "outputs": [],
   "source": [
    "keys = [\"a\",\"b\",\"c\"]\n",
    "vals = [1,2,3]\n",
    "zipped = dict(zip(keys,vals))\n",
    "print(zipped)"
   ]
  },
  {
   "cell_type": "markdown",
   "metadata": {},
   "source": [
    "El comando \"zip()\" toma como argumentos objetos iterables (como listas) y devuelve una lista de tuplas. Cada tupla agrupa a los elementos de los objetos iterables por su índice posicional. También se puede hacer un \"unzip\" de objetos con el método \"*zip()\"."
   ]
  }
 ],
 "metadata": {
  "kernelspec": {
   "display_name": "Python 3",
   "language": "python",
   "name": "python3"
  },
  "language_info": {
   "codemirror_mode": {
    "name": "ipython",
    "version": 3
   },
   "file_extension": ".py",
   "mimetype": "text/x-python",
   "name": "python",
   "nbconvert_exporter": "python",
   "pygments_lexer": "ipython3",
   "version": "3.7.1"
  }
 },
 "nbformat": 4,
 "nbformat_minor": 2
}
